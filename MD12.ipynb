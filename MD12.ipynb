{
 "cells": [
  {
   "cell_type": "markdown",
   "metadata": {},
   "source": [
    "#### Read cell estimator file into a dictionary"
   ]
  },
  {
   "cell_type": "code",
   "execution_count": 3,
   "metadata": {
    "collapsed": true
   },
   "outputs": [],
   "source": [
    "def readCellModels(infile='cellModels.txt'): \n",
    "    \"\"\"\n",
    "    Description: \n",
    "        Reads binary file storing best estimator model for each cell into a dictionary. \n",
    "    Arguments: \n",
    "        infile: String value of file name where results from cellEstimator() are stored (default='cellModels.txt'). \n",
    "    Returns: \n",
    "        cellModels: Dictionary with grid cell id as key and RF model as value. \n",
    "    \"\"\"\n",
    "    \n",
    "    import numpy as np\n",
    "    import _pickle as cPickle\n",
    "    \n",
    "    cellModels = {}\n",
    "\n",
    "    with open(infile, 'rb') as fin:\n",
    "        while True:\n",
    "            try:\n",
    "                # unpickle (load) input file\n",
    "                value = cPickle.load(fin)\n",
    "                \n",
    "                # save estimator to new dictionary with cell id as key\n",
    "                cellModels[value[0]] = value[1]['estimator']\n",
    "\n",
    "            except (EOFError):\n",
    "                break\n",
    "\n",
    "        fin.close()\n",
    "    \n",
    "    return cellModels"
   ]
  },
  {
   "cell_type": "code",
   "execution_count": 4,
   "metadata": {},
   "outputs": [],
   "source": [
    "# Uncomment this line to run\n",
    "cellDict = readCellModels(infile='cellModels.txt')"
   ]
  },
  {
   "cell_type": "markdown",
   "metadata": {},
   "source": [
    "#### Build prediction output data set"
   ]
  },
  {
   "cell_type": "code",
   "execution_count": 12,
   "metadata": {},
   "outputs": [],
   "source": [
    "def gridPredictor(dataDict, estimatatorDict, hour):\n",
    "    \"\"\"\n",
    "    Description:\n",
    "        Predicts number of accidents in each grid for a given hour. \n",
    "    Arguments:\n",
    "        dataDict: A Dictionary with grid cell id as key and observations DataFrame as value (default=grid_ts).\n",
    "        estimatorDict: A Dictionary with grid cell id as key and RF model as value (default=cellDict). \n",
    "        hour: Hour of the day (0-23) at which prediction will be made.\n",
    "    Returns:\n",
    "        outfile: A CSV file containing an array of grid cell ids and predicted number of accidents. \n",
    "    \"\"\"\n",
    "    \n",
    "    import numpy as np\n",
    "    \n",
    "    arr = np.ndarray([len(dataDict.keys()), 2], dtype=object)\n",
    "    \n",
    "    try: \n",
    "        if not (hour in np.arange(24)): \n",
    "            raise ValueError('Input hour value is out of range (0 to 23).')\n",
    "        \n",
    "        for cell in datadict.keys():\n",
    "            # extract input data set from grid dictionary\n",
    "            observed = dataDict[cell].iloc[dataDict[cell].index == hour, :3]\n",
    "            \n",
    "            # run prediction algorithm\n",
    "            model = estimatatorDict[cell]\n",
    "            predicted = np.ceil(model.predict(observed)) \n",
    "            \n",
    "            # save results to outdata\n",
    "#             arr[0], arr[1] = cell, predicted\n",
    "\n",
    "    except ValueError as e:\n",
    "        print('ValueError: %s' % e.message)\n",
    "    except MemoryError as e:\n",
    "        print('MemoryError: %s' % e.message)\n",
    "        "
   ]
  },
  {
   "cell_type": "code",
   "execution_count": null,
   "metadata": {
    "collapsed": true
   },
   "outputs": [],
   "source": [
    "# Uncomment this line to run\n",
    "# gridPredictor(dataDict=grid_ts, estimatatorDict=cellDict, hour=17)"
   ]
  },
  {
   "cell_type": "code",
   "execution_count": null,
   "metadata": {
    "collapsed": true
   },
   "outputs": [],
   "source": []
  }
 ],
 "metadata": {
  "kernelspec": {
   "display_name": "Python 3",
   "language": "python",
   "name": "python3"
  },
  "language_info": {
   "codemirror_mode": {
    "name": "ipython",
    "version": 3
   },
   "file_extension": ".py",
   "mimetype": "text/x-python",
   "name": "python",
   "nbconvert_exporter": "python",
   "pygments_lexer": "ipython3",
   "version": "3.6.1"
  }
 },
 "nbformat": 4,
 "nbformat_minor": 2
}
